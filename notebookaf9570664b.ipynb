{
  "cells": [
    {
      "cell_type": "markdown",
      "metadata": {
        "id": "view-in-github",
        "colab_type": "text"
      },
      "source": [
        "<a href=\"https://colab.research.google.com/github/EhsanKpd/Computer_Vision/blob/main/notebookaf9570664b.ipynb\" target=\"_parent\"><img src=\"https://colab.research.google.com/assets/colab-badge.svg\" alt=\"Open In Colab\"/></a>"
      ]
    },
    {
      "cell_type": "code",
      "execution_count": null,
      "metadata": {
        "id": "1c1b6d29"
      },
      "outputs": [],
      "source": [
        "import numpy as np\n",
        "import tensorflow as tf\n",
        "from tensorflow import keras\n",
        "from tensorflow.keras import layers\n",
        "import numpy as np\n",
        "import pandas as pd\n",
        "\n",
        "# Input data files are available in the read-only \"../input/\" directory\n",
        "# For example, running this (by clicking run or pressing Shift+Enter) will list all files under the input directory\n",
        "\n",
        "import os\n",
        "for dirname, _, filenames in os.walk('/kaggle/input'):\n",
        "    for filename in filenames:\n",
        "        print(os.path.join(dirname, filename))\n",
        "\n",
        "# You can write up to 20GB to the current directory (/kaggle/working/) that gets preserved as output when you create a version using \"Save & Run All\"\n",
        "# You can also write temporary files to /kaggle/temp/, but they won't be saved outside of the current session"
      ],
      "id": "1c1b6d29"
    },
    {
      "cell_type": "code",
      "execution_count": null,
      "metadata": {
        "colab": {
          "base_uri": "https://localhost:8080/"
        },
        "id": "db1CmjUxNuNr",
        "outputId": "a94ca673-5f5d-4248-ba51-3bbc36f1a275"
      },
      "outputs": [
        {
          "name": "stdout",
          "output_type": "stream",
          "text": [
            "Mounted at /content/drive\n"
          ]
        }
      ],
      "source": [
        "from google.colab import drive\n",
        "drive.mount('/content/drive')"
      ],
      "id": "db1CmjUxNuNr"
    },
    {
      "cell_type": "code",
      "execution_count": null,
      "metadata": {
        "id": "a56fa57f"
      },
      "outputs": [],
      "source": [
        "train_images = np.load(\"/content/drive/MyDrive/Facial_Expression/archive/train_images.npy\")\n",
        "train_labels = np.load(\"/content/drive/MyDrive/Facial_Expression/archive/train_labels.npy\")\n",
        "test_images = np.load (\"/content/drive/MyDrive/Facial_Expression/archive/test_images.npy\")\n",
        "test_labels = np.load(\"/content/drive/MyDrive/Facial_Expression/archive/test_labels.npy\")"
      ],
      "id": "a56fa57f"
    },
    {
      "cell_type": "code",
      "execution_count": null,
      "metadata": {
        "colab": {
          "base_uri": "https://localhost:8080/"
        },
        "id": "3a542156",
        "outputId": "eb28156b-3ad9-4e58-80c6-b7635d228f97"
      },
      "outputs": [
        {
          "name": "stdout",
          "output_type": "stream",
          "text": [
            "(28709, 48, 48)\n",
            "(28709,)\n",
            "(7178, 48, 48)\n",
            "(7178,)\n"
          ]
        }
      ],
      "source": [
        "print(train_images.shape)\n",
        "print(train_labels.shape)\n",
        "print(test_images.shape)\n",
        "print(test_labels.shape)"
      ],
      "id": "3a542156"
    },
    {
      "cell_type": "code",
      "execution_count": null,
      "metadata": {
        "colab": {
          "base_uri": "https://localhost:8080/"
        },
        "id": "02f52c1a",
        "outputId": "a012bc8f-2823-417a-a76f-1960e3605002"
      },
      "outputs": [
        {
          "data": {
            "text/plain": [
              "['', 'angry', 'disgust', 'fear', 'happy', 'neutral', 'sad', 'surprise']"
            ]
          },
          "execution_count": 5,
          "metadata": {},
          "output_type": "execute_result"
        }
      ],
      "source": [
        "label_names = ['','angry','disgust','fear','happy','neutral','sad','surprise']\n",
        "label_names"
      ],
      "id": "02f52c1a"
    },
    {
      "cell_type": "code",
      "execution_count": null,
      "metadata": {
        "colab": {
          "base_uri": "https://localhost:8080/",
          "height": 448
        },
        "id": "94770557",
        "outputId": "65d10d09-baec-4efe-e8fa-a227939814ba"
      },
      "outputs": [
        {
          "name": "stdout",
          "output_type": "stream",
          "text": [
            "label =  happy\n"
          ]
        },
        {
          "data": {
            "image/png": "[encoded data removed]",
            "text/plain": [
              "<Figure size 640x480 with 1 Axes>"
            ]
          },
          "metadata": {},
          "output_type": "display_data"
        }
      ],
      "source": [
        "import matplotlib as plt\n",
        "plt.pyplot.imshow(train_images[14000])\n",
        "print(\"label = \",label_names[train_labels[14000]])"
      ],
      "id": "94770557"
    },
    {
      "cell_type": "code",
      "execution_count": null,
      "metadata": {
        "colab": {
          "base_uri": "https://localhost:8080/"
        },
        "id": "e9875a2c",
        "outputId": "ae8eecfd-42b2-411b-f672-76b471d91104"
      },
      "outputs": [
        {
          "name": "stdout",
          "output_type": "stream",
          "text": [
            "Unique labels in training data: [0 1 2 3 4 5 6]\n",
            "Unique labels in testing data: [0 1 2 3 4 5 6]\n"
          ]
        }
      ],
      "source": [
        "# Normalize pixel values to range [0, 1]\n",
        "train_images = train_images.astype('float32') / 255.0\n",
        "test_images = test_images.astype('float32') / 255.0\n",
        "\n",
        "# Adjust labels to start from 0 (subtract 1 from all label values)\n",
        "train_labels = train_labels - 1\n",
        "test_labels = test_labels - 1\n",
        "\n",
        "# Check the unique labels in the training dataset\n",
        "unique_labels_train = np.unique(train_labels)\n",
        "print(\"Unique labels in training data:\", unique_labels_train)\n",
        "\n",
        "# Check the unique labels in the testing dataset\n",
        "unique_labels_test = np.unique(test_labels)\n",
        "print(\"Unique labels in testing data:\", unique_labels_test)"
      ],
      "id": "e9875a2c"
    },
    {
      "cell_type": "code",
      "execution_count": null,
      "metadata": {
        "colab": {
          "base_uri": "https://localhost:8080/"
        },
        "id": "1fc0af57",
        "outputId": "4dc2242b-4fcf-46a9-b3d7-9bd53fe14215"
      },
      "outputs": [
        {
          "name": "stdout",
          "output_type": "stream",
          "text": [
            "Image height: 48\n",
            "Image width: 48\n",
            "Number of channels: 1\n"
          ]
        }
      ],
      "source": [
        "# Convert images to single-channel format (add an extra dimension for the channel)\n",
        "train_images = np.expand_dims(train_images, axis=-1)\n",
        "test_images = np.expand_dims(test_images, axis=-1)\n",
        "\n",
        "# Convert labels to one-hot encoded format\n",
        "num_classes = len(np.unique(train_labels))\n",
        "train_labels = keras.utils.to_categorical(train_labels, num_classes)\n",
        "test_labels = keras.utils.to_categorical(test_labels, num_classes)\n",
        "\n",
        "# Determine the image size from the data\n",
        "image_height, image_width, num_channels = train_images.shape[1:]\n",
        "print(\"Image height:\", image_height)\n",
        "print(\"Image width:\", image_width)\n",
        "print(\"Number of channels:\", num_channels)"
      ],
      "id": "1fc0af57"
    },
    {
      "cell_type": "code",
      "execution_count": null,
      "metadata": {
        "colab": {
          "base_uri": "https://localhost:8080/"
        },
        "id": "8919cc89",
        "outputId": "f45cf349-7664-413b-e713-7992d2d7d21c"
      },
      "outputs": [
        {
          "name": "stdout",
          "output_type": "stream",
          "text": [
            "Model: \"sequential\"\n",
            "_________________________________________________________________\n",
            " Layer (type)                Output Shape              Param #   \n",
            "=================================================================\n",
            " conv2d (Conv2D)             (None, 46, 46, 32)        320       \n",
            "                                                                 \n",
            " max_pooling2d (MaxPooling2  (None, 23, 23, 32)        0         \n",
            " D)                                                              \n",
            "                                                                 \n",
            " conv2d_1 (Conv2D)           (None, 21, 21, 64)        18496     \n",
            "                                                                 \n",
            " max_pooling2d_1 (MaxPoolin  (None, 10, 10, 64)        0         \n",
            " g2D)                                                            \n",
            "                                                                 \n",
            " conv2d_2 (Conv2D)           (None, 8, 8, 128)         73856     \n",
            "                                                                 \n",
            " flatten (Flatten)           (None, 8192)              0         \n",
            "                                                                 \n",
            " dense (Dense)               (None, 128)               1048704   \n",
            "                                                                 \n",
            " dense_1 (Dense)             (None, 7)                 903       \n",
            "                                                                 \n",
            "=================================================================\n",
            "Total params: 1142279 (4.36 MB)\n",
            "Trainable params: 1142279 (4.36 MB)\n",
            "Non-trainable params: 0 (0.00 Byte)\n",
            "_________________________________________________________________\n"
          ]
        }
      ],
      "source": [
        "# Build the custom CNN model\n",
        "model = keras.Sequential([\n",
        "    layers.Conv2D(32, (3, 3), activation='relu', input_shape=(image_height, image_width, num_channels)),\n",
        "    layers.MaxPooling2D((2, 2)),\n",
        "    layers.Conv2D(64, (3, 3), activation='relu'),\n",
        "    layers.MaxPooling2D((2, 2)),\n",
        "    layers.Conv2D(128, (3, 3), activation='relu'),\n",
        "    layers.Flatten(),\n",
        "    layers.Dense(128, activation='relu'),\n",
        "    layers.Dense(num_classes, activation='softmax')\n",
        "])\n",
        "\n",
        "model.summary()"
      ],
      "id": "8919cc89"
    },
    {
      "cell_type": "code",
      "execution_count": null,
      "metadata": {
        "id": "d590ac07"
      },
      "outputs": [],
      "source": [
        "model.compile(optimizer='adam',\n",
        "              loss='categorical_crossentropy',\n",
        "              metrics=['accuracy'])\n"
      ],
      "id": "d590ac07"
    },
    {
      "cell_type": "code",
      "execution_count": null,
      "metadata": {
        "colab": {
          "background_save": true,
          "base_uri": "https://localhost:8080/"
        },
        "id": "af22cb00",
        "outputId": "d9aade7e-7464-4ea9-fb6c-6c60df056713"
      },
      "outputs": [
        {
          "name": "stdout",
          "output_type": "stream",
          "text": [
            "Epoch 1/10\n",
            "404/404 [==============================] - 94s 228ms/step - loss: 1.5687 - accuracy: 0.3586 - val_loss: 3.0901 - val_accuracy: 0.0000e+00\n",
            "Epoch 2/10\n",
            "404/404 [==============================] - 91s 224ms/step - loss: 1.3540 - accuracy: 0.4691 - val_loss: 3.2846 - val_accuracy: 6.9662e-04\n",
            "Epoch 3/10\n",
            "404/404 [==============================] - 93s 231ms/step - loss: 1.2361 - accuracy: 0.5174 - val_loss: 2.8798 - val_accuracy: 0.0327\n",
            "Epoch 4/10\n",
            "404/404 [==============================] - 90s 224ms/step - loss: 1.1521 - accuracy: 0.5564 - val_loss: 3.3035 - val_accuracy: 0.0623\n",
            "Epoch 5/10\n",
            "404/404 [==============================] - 90s 222ms/step - loss: 1.0720 - accuracy: 0.5870 - val_loss: 2.6067 - val_accuracy: 0.3058\n",
            "Epoch 6/10\n",
            "404/404 [==============================] - 92s 228ms/step - loss: 0.9934 - accuracy: 0.6186 - val_loss: 3.3637 - val_accuracy: 0.1452\n",
            "Epoch 7/10\n",
            "404/404 [==============================] - 98s 243ms/step - loss: 0.9115 - accuracy: 0.6559 - val_loss: 3.2918 - val_accuracy: 0.1383\n",
            "Epoch 8/10\n",
            "404/404 [==============================] - 96s 238ms/step - loss: 0.8209 - accuracy: 0.6938 - val_loss: 4.0684 - val_accuracy: 0.1243\n",
            "Epoch 9/10\n",
            "404/404 [==============================] - 95s 236ms/step - loss: 0.7261 - accuracy: 0.7285 - val_loss: 3.9470 - val_accuracy: 0.1679\n",
            "Epoch 10/10\n",
            "404/404 [==============================] - 95s 235ms/step - loss: 0.6229 - accuracy: 0.7719 - val_loss: 3.9622 - val_accuracy: 0.2564\n"
          ]
        },
        {
          "data": {
            "text/plain": [
              "<keras.src.callbacks.History at 0x7fc4d4f095a0>"
            ]
          },
          "execution_count": 11,
          "metadata": {},
          "output_type": "execute_result"
        }
      ],
      "source": [
        "batch_size = 64\n",
        "epochs = 10\n",
        "\n",
        "model.fit(train_images, train_labels, batch_size=batch_size, epochs=epochs, validation_split=0.1)"
      ],
      "id": "af22cb00"
    },
    {
      "cell_type": "code",
      "execution_count": null,
      "metadata": {
        "colab": {
          "base_uri": "https://localhost:8080/"
        },
        "id": "725aa5fa",
        "outputId": "40315c1a-2153-4027-e067-595179fb1663"
      },
      "outputs": [
        {
          "name": "stdout",
          "output_type": "stream",
          "text": [
            "225/225 [==============================] - 7s 31ms/step - loss: 1.4622 - accuracy: 0.5234\n",
            "Test accuracy: 0.5234048366546631\n"
          ]
        }
      ],
      "source": [
        "test_loss, test_accuracy = model.evaluate(test_images, test_labels, verbose=\"auto\")\n",
        "print(f'Test accuracy: {test_accuracy}')\n"
      ],
      "id": "725aa5fa"
    },
    {
      "cell_type": "code",
      "execution_count": null,
      "metadata": {
        "colab": {
          "base_uri": "https://localhost:8080/"
        },
        "id": "4d1b4be2",
        "outputId": "94c16d7b-710a-42eb-9481-936676f1972e"
      },
      "outputs": [
        {
          "name": "stdout",
          "output_type": "stream",
          "text": [
            "225/225 [==============================] - 9s 38ms/step\n"
          ]
        }
      ],
      "source": [
        "predictions = model.predict(test_images)"
      ],
      "id": "4d1b4be2"
    },
    {
      "cell_type": "code",
      "execution_count": null,
      "metadata": {
        "colab": {
          "base_uri": "https://localhost:8080/"
        },
        "id": "344377f3",
        "outputId": "44c840f5-aa0c-4018-cb4f-9d6f8462f227"
      },
      "outputs": [
        {
          "name": "stdout",
          "output_type": "stream",
          "text": [
            "Predicted accuracy: 0.5234048481471162\n"
          ]
        }
      ],
      "source": [
        "# Convert one-hot encoded predictions to class labels\n",
        "predicted_labels = np.argmax(predictions, axis=1)\n",
        "\n",
        "# Convert one-hot encoded true labels to class labels\n",
        "true_labels = np.argmax(test_labels, axis=1)\n",
        "\n",
        "# Calculate predicted accuracy\n",
        "predicted_accuracy = np.mean(predicted_labels == true_labels)\n",
        "print(f'Predicted accuracy: {predicted_accuracy}')\n"
      ],
      "id": "344377f3"
    },
    {
      "cell_type": "code",
      "execution_count": null,
      "metadata": {
        "id": "da8bf6fd"
      },
      "outputs": [],
      "source": [],
      "id": "da8bf6fd"
    },
    {
      "cell_type": "code",
      "execution_count": null,
      "metadata": {
        "id": "d2c12f02"
      },
      "outputs": [],
      "source": [],
      "id": "d2c12f02"
    },
    {
      "cell_type": "code",
      "execution_count": null,
      "metadata": {
        "id": "469673ca"
      },
      "outputs": [],
      "source": [],
      "id": "469673ca"
    },
    {
      "cell_type": "code",
      "execution_count": null,
      "metadata": {
        "id": "0b9bd8db"
      },
      "outputs": [],
      "source": [],
      "id": "0b9bd8db"
    },
    {
      "cell_type": "code",
      "execution_count": null,
      "metadata": {
        "id": "80c5a973"
      },
      "outputs": [],
      "source": [],
      "id": "80c5a973"
    }
  ],
  "metadata": {
    "colab": {
      "provenance": [],
      "include_colab_link": true
    },
    "kernelspec": {
      "display_name": "Python 3",
      "language": "python",
      "name": "python3"
    },
    "language_info": {
      "codemirror_mode": {
        "name": "ipython",
        "version": 3
      },
      "file_extension": ".py",
      "mimetype": "text/x-python",
      "name": "python",
      "nbconvert_exporter": "python",
      "pygments_lexer": "ipython3",
      "version": "3.10.12"
    },
    "papermill": {
      "default_parameters": {},
      "duration": 1321.441086,
      "end_time": "2023-10-17T10:56:04.776717",
      "environment_variables": {},
      "exception": null,
      "input_path": "__notebook__.ipynb",
      "output_path": "__notebook__.ipynb",
      "parameters": {},
      "start_time": "2023-10-17T10:34:03.335631",
      "version": "2.4.0"
    }
  },
  "nbformat": 4,
  "nbformat_minor": 5
}